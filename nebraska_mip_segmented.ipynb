{
 "cells": [
  {
   "cell_type": "code",
   "execution_count": 2,
   "id": "9e0dc1a5",
   "metadata": {},
   "outputs": [],
   "source": [
    "# The following code is a modification of the moment of inertia\n",
    "# model with contiguity as described \n",
    "\n",
    "from gerrychain import Graph\n",
    "from geopy.distance import geodesic\n",
    "import gurobipy as gp\n",
    "from gurobipy import GRB\n",
    "import networkx as nx\n",
    "import geopandas as gpan\n",
    "\n"
   ]
  }
 ],
 "metadata": {
  "kernelspec": {
   "display_name": "Python 3 (ipykernel)",
   "language": "python",
   "name": "python3"
  },
  "language_info": {
   "codemirror_mode": {
    "name": "ipython",
    "version": 3
   },
   "file_extension": ".py",
   "mimetype": "text/x-python",
   "name": "python",
   "nbconvert_exporter": "python",
   "pygments_lexer": "ipython3",
   "version": "3.9.12"
  }
 },
 "nbformat": 4,
 "nbformat_minor": 5
}
